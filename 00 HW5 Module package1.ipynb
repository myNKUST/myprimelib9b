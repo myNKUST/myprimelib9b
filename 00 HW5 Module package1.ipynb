{
 "cells": [
  {
   "attachments": {},
   "cell_type": "markdown",
   "metadata": {},
   "source": [
    "# 如何產生模組9 How to creater a module"
   ]
  },
  {
   "cell_type": "markdown",
   "metadata": {},
   "source": [
    "* import module_name as na\n",
    "* import file\n",
    "* import folder.file \n",
    "* from folder.file import function   \n",
    "e.g. import pandas as pd  \n",
    "\n",
    "檔案目錄結構:    \n",
    "根目錄\n",
    "├────── test.py # run file   \n",
    "└────── modules # folder   \n",
    "           └────────── example.py # imported file with function add()   "
   ]
  },
  {
   "cell_type": "code",
   "execution_count": null,
   "metadata": {},
   "outputs": [],
   "source": [
    "import utilities"
   ]
  },
  {
   "cell_type": "code",
   "execution_count": null,
   "metadata": {},
   "outputs": [],
   "source": [
    "utilities.add(1, 2) # returns 3"
   ]
  },
  {
   "cell_type": "code",
   "execution_count": null,
   "metadata": {},
   "outputs": [],
   "source": [
    "import utilities as ut\n",
    "\n",
    "ut.add(1, 2) # calls the utilities.add() function"
   ]
  },
  {
   "cell_type": "code",
   "execution_count": null,
   "metadata": {},
   "outputs": [],
   "source": [
    "from utilities import FAVORITE_NUM\n",
    "\n",
    "print(FAVORITE_NUM)"
   ]
  },
  {
   "cell_type": "code",
   "execution_count": null,
   "metadata": {},
   "outputs": [],
   "source": [
    "from utilities import *"
   ]
  },
  {
   "cell_type": "code",
   "execution_count": null,
   "metadata": {},
   "outputs": [],
   "source": []
  },
  {
   "cell_type": "code",
   "execution_count": null,
   "metadata": {},
   "outputs": [],
   "source": [
    "print(FAVORITE_NUM)\n",
    "\n",
    "greet()\n",
    "add(1, 2)\n",
    "bye()"
   ]
  },
  {
   "cell_type": "markdown",
   "metadata": {},
   "source": [
    "├── test.py # run file\n",
    "└── modules # folder\n",
    "      └── example.py # imported file with function add()"
   ]
  },
  {
   "cell_type": "code",
   "execution_count": null,
   "metadata": {},
   "outputs": [],
   "source": [
    "from modules.example import add"
   ]
  },
  {
   "cell_type": "markdown",
   "metadata": {},
   "source": [
    "# 安裝Python Package\n"
   ]
  },
  {
   "cell_type": "markdown",
   "metadata": {},
   "source": [
    "### primelib 目錄內folder structure\n",
    "![picture 1](../images/1ef2bd1255742b61853bb60d5655eb8830d85629d2485bf8f332313bdd19e0d9.png)  \n"
   ]
  },
  {
   "cell_type": "markdown",
   "metadata": {},
   "source": [
    "## 申請github account並create a new repository(儲存庫)\n",
    "##### Github account\n",
    "![picture 1](../images/59daf8f00f4c236ca579a415a6e703106d09d60e65667209e19db355a23a87d4.png)  \n",
    "\n",
    "##### Create new repository \n",
    "![picture 2](../images/f40858f7c4f868126c834986fc71ab13028ffdb951b64eb7d28007c4449f8c7f.png)  \n",
    "\n",
    "##### Create myown new repository \n",
    "![picture 3](../images/6e0b328f6ef9f76460eb20467738716ba694852f9bc16f79233cf065f4724397.png)  \n"
   ]
  },
  {
   "cell_type": "markdown",
   "metadata": {},
   "source": [
    "### Download the new project to your computer by running \n",
    "git clone https://github.com/YOUR-USERNAME/primelib.git\n",
    "### The link is provided when clicking on the green “Code” button."
   ]
  },
  {
   "cell_type": "code",
   "execution_count": 4,
   "metadata": {},
   "outputs": [
    {
     "name": "stdout",
     "output_type": "stream",
     "text": [
      "============================= test session starts =============================\n",
      "platform win32 -- Python 3.9.7, pytest-7.1.2, pluggy-1.0.0\n",
      "rootdir: c:\\Users\\Administrator\\Documents\\GitHub\\myprimelib9b\n",
      "plugins: anyio-3.5.0\n",
      "collected 2 items\n",
      "\n",
      "tests\\test_prime.py ..                                                   [100%]\n",
      "\n",
      "============================== 2 passed in 0.04s ==============================\n"
     ]
    }
   ],
   "source": [
    "# test package 內test*.py檔\n",
    "# !python -m pytest #必要跑\n",
    "\n",
    "!python -m pytest "
   ]
  },
  {
   "cell_type": "code",
   "execution_count": 40,
   "metadata": {},
   "outputs": [
    {
     "name": "stdout",
     "output_type": "stream",
     "text": [
      "Requirement already satisfied: setuptools in c:\\anaconda3\\lib\\site-packages (65.3.0)\n",
      "Requirement already satisfied: wheel in c:\\anaconda3\\lib\\site-packages (0.37.1)\n",
      "Requirement already satisfied: twine in c:\\anaconda3\\lib\\site-packages (4.0.1)\n",
      "Requirement already satisfied: urllib3>=1.26.0 in c:\\anaconda3\\lib\\site-packages (from twine) (1.26.9)\n",
      "Requirement already satisfied: keyring>=15.1 in c:\\anaconda3\\lib\\site-packages (from twine) (23.8.2)\n",
      "Requirement already satisfied: pkginfo>=1.8.1 in c:\\anaconda3\\lib\\site-packages (from twine) (1.8.2)\n",
      "Requirement already satisfied: rfc3986>=1.4.0 in c:\\anaconda3\\lib\\site-packages (from twine) (2.0.0)\n",
      "Requirement already satisfied: requests>=2.20 in c:\\anaconda3\\lib\\site-packages (from twine) (2.27.1)\n",
      "Requirement already satisfied: importlib-metadata>=3.6 in c:\\anaconda3\\lib\\site-packages (from twine) (4.12.0)\n",
      "Requirement already satisfied: readme-renderer>=35.0 in c:\\anaconda3\\lib\\site-packages (from twine) (37.0)\n",
      "Requirement already satisfied: requests-toolbelt!=0.9.0,>=0.8.0 in c:\\anaconda3\\lib\\site-packages (from twine) (0.9.1)\n",
      "Requirement already satisfied: rich>=12.0.0 in c:\\anaconda3\\lib\\site-packages (from twine) (12.5.1)\n",
      "Requirement already satisfied: zipp>=0.5 in c:\\anaconda3\\lib\\site-packages (from importlib-metadata>=3.6->twine) (3.8.1)\n",
      "Requirement already satisfied: pywin32-ctypes!=0.1.0,!=0.1.1 in c:\\anaconda3\\lib\\site-packages (from keyring>=15.1->twine) (0.2.0)\n",
      "Requirement already satisfied: bleach>=2.1.0 in c:\\anaconda3\\lib\\site-packages (from readme-renderer>=35.0->twine) (4.1.0)\n",
      "Requirement already satisfied: docutils>=0.13.1 in c:\\anaconda3\\lib\\site-packages (from readme-renderer>=35.0->twine) (0.19)\n",
      "Requirement already satisfied: Pygments>=2.5.1 in c:\\anaconda3\\lib\\site-packages (from readme-renderer>=35.0->twine) (2.11.2)\n",
      "Requirement already satisfied: packaging in c:\\anaconda3\\lib\\site-packages (from bleach>=2.1.0->readme-renderer>=35.0->twine) (21.3)\n",
      "Requirement already satisfied: webencodings in c:\\anaconda3\\lib\\site-packages (from bleach>=2.1.0->readme-renderer>=35.0->twine) (0.5.1)\n",
      "Requirement already satisfied: six>=1.9.0 in c:\\anaconda3\\lib\\site-packages (from bleach>=2.1.0->readme-renderer>=35.0->twine) (1.16.0)\n",
      "Requirement already satisfied: certifi>=2017.4.17 in c:\\anaconda3\\lib\\site-packages (from requests>=2.20->twine) (2022.6.15)\n",
      "Requirement already satisfied: charset-normalizer~=2.0.0 in c:\\anaconda3\\lib\\site-packages (from requests>=2.20->twine) (2.0.4)\n",
      "Requirement already satisfied: idna<4,>=2.5 in c:\\anaconda3\\lib\\site-packages (from requests>=2.20->twine) (3.3)\n",
      "Requirement already satisfied: commonmark<0.10.0,>=0.9.0 in c:\\anaconda3\\lib\\site-packages (from rich>=12.0.0->twine) (0.9.1)\n",
      "Requirement already satisfied: pyparsing!=3.0.5,>=2.0.2 in c:\\anaconda3\\lib\\site-packages (from packaging->bleach>=2.1.0->readme-renderer>=35.0->twine) (3.0.4)\n"
     ]
    },
    {
     "name": "stderr",
     "output_type": "stream",
     "text": [
      "WARNING: Ignoring invalid distribution -atplotlib (c:\\anaconda3\\lib\\site-packages)\n",
      "WARNING: Ignoring invalid distribution -atplotlib (c:\\anaconda3\\lib\\site-packages)\n",
      "WARNING: Ignoring invalid distribution -atplotlib (c:\\anaconda3\\lib\\site-packages)\n",
      "WARNING: Ignoring invalid distribution -atplotlib (c:\\anaconda3\\lib\\site-packages)\n",
      "WARNING: Ignoring invalid distribution -atplotlib (c:\\anaconda3\\lib\\site-packages)\n",
      "WARNING: Ignoring invalid distribution -atplotlib (c:\\anaconda3\\lib\\site-packages)\n"
     ]
    }
   ],
   "source": [
    "# check if there are 3 packages: setuptools wheel twine \n",
    "# 1.build打包packages\n",
    "# 2.dist packages,\n",
    "!pip install --upgrade setuptools wheel twine\n",
    "#!pip install setuptools\n",
    "#!pip install wheel\n",
    "#!pip install twine"
   ]
  },
  {
   "cell_type": "markdown",
   "metadata": {},
   "source": [
    "# Create setup.py\n",
    "![picture 1](images/cd64505c38b0eea96838e2255ac83198ae0d549d4f4145a841e3e3e1c3011a02.png)  \n",
    "![picture 2](images/cb32a660200574a0fce15549ce0b2a1b26922831c3702e57a9dafc5ec7d766d1.png)  \n"
   ]
  },
  {
   "cell_type": "code",
   "execution_count": 7,
   "metadata": {},
   "outputs": [
    {
     "name": "stdout",
     "output_type": "stream",
     "text": [
      "running sdist\n",
      "running egg_info\n"
     ]
    },
    {
     "name": "stderr",
     "output_type": "stream",
     "text": [
      "c:\\Anaconda3\\lib\\site-packages\\setuptools\\command\\install.py:34: SetuptoolsDeprecationWarning: setup.py install is deprecated. Use build and pip and other standards-based tools.\n",
      "  warnings.warn(\n"
     ]
    },
    {
     "name": "stdout",
     "output_type": "stream",
     "text": [
      "writing myprimelib9b.egg-info\\PKG-INFO\n",
      "writing dependency_links to myprimelib9b.egg-info\\dependency_links.txt\n",
      "writing top-level names to myprimelib9b.egg-info\\top_level.txt\n",
      "reading manifest file 'myprimelib9b.egg-info\\SOURCES.txt'\n",
      "adding license file 'LICENSE'\n",
      "writing manifest file 'myprimelib9b.egg-info\\SOURCES.txt'\n",
      "running check\n",
      "creating myprimelib9b-0.0.1\n",
      "creating myprimelib9b-0.0.1\\myprimelib9b\n",
      "creating myprimelib9b-0.0.1\\myprimelib9b.egg-info\n",
      "copying files to myprimelib9b-0.0.1...\n",
      "copying LICENSE -> myprimelib9b-0.0.1\n",
      "copying README.md -> myprimelib9b-0.0.1\n",
      "copying setup.py -> myprimelib9b-0.0.1\n",
      "copying myprimelib9b\\__init__.py -> myprimelib9b-0.0.1\\myprimelib9b\n",
      "copying myprimelib9b\\prime_numbers.py -> myprimelib9b-0.0.1\\myprimelib9b\n",
      "copying myprimelib9b.egg-info\\PKG-INFO -> myprimelib9b-0.0.1\\myprimelib9b.egg-info\n",
      "copying myprimelib9b.egg-info\\SOURCES.txt -> myprimelib9b-0.0.1\\myprimelib9b.egg-info\n",
      "copying myprimelib9b.egg-info\\dependency_links.txt -> myprimelib9b-0.0.1\\myprimelib9b.egg-info\n",
      "copying myprimelib9b.egg-info\\top_level.txt -> myprimelib9b-0.0.1\\myprimelib9b.egg-info\n",
      "Writing myprimelib9b-0.0.1\\setup.cfg\n",
      "Creating tar archive\n",
      "removing 'myprimelib9b-0.0.1' (and everything under it)\n",
      "running bdist_wheel\n",
      "running build\n"
     ]
    },
    {
     "name": "stdout",
     "output_type": "stream",
     "text": [
      "running build_py\n",
      "installing to build\\bdist.win-amd64\\wheel\n",
      "running install\n",
      "running install_lib\n",
      "creating build\\bdist.win-amd64\\wheel\n",
      "creating build\\bdist.win-amd64\\wheel\\myprimelib9b\n",
      "copying build\\lib\\myprimelib9b\\prime_numbers.py -> build\\bdist.win-amd64\\wheel\\.\\myprimelib9b\n",
      "copying build\\lib\\myprimelib9b\\__init__.py -> build\\bdist.win-amd64\\wheel\\.\\myprimelib9b\n",
      "running install_egg_info\n",
      "Copying myprimelib9b.egg-info to build\\bdist.win-amd64\\wheel\\.\\myprimelib9b-0.0.1-py3.9.egg-info\n",
      "running install_scripts\n",
      "adding license file \"LICENSE\" (matched pattern \"LICEN[CS]E*\")\n",
      "creating build\\bdist.win-amd64\\wheel\\myprimelib9b-0.0.1.dist-info\\WHEEL\n",
      "creating 'dist\\myprimelib9b-0.0.1-py3-none-any.whl' and adding 'build\\bdist.win-amd64\\wheel' to it\n",
      "adding 'myprimelib9b/__init__.py'\n",
      "adding 'myprimelib9b/prime_numbers.py'\n",
      "adding 'myprimelib9b-0.0.1.dist-info/LICENSE'\n",
      "adding 'myprimelib9b-0.0.1.dist-info/METADATA'\n",
      "adding 'myprimelib9b-0.0.1.dist-info/WHEEL'\n",
      "adding 'myprimelib9b-0.0.1.dist-info/top_level.txt'\n",
      "adding 'myprimelib9b-0.0.1.dist-info/RECORD'\n",
      "removing build\\bdist.win-amd64\\wheel\n"
     ]
    }
   ],
   "source": [
    "#This generates distribution archives(upload dist/*到PYPI) in the dist/\n",
    "#以下安裝dist/*到自己的source code folder: primelib\n",
    "\n",
    "!python setup.py sdist bdist_wheel\n",
    "#1. 建置打包(build package) source code 成為package: myprimelib9b-0.0.1-py.39.egg\n",
    "#2. 分布安裝(dist and install) python setup.py install\n",
    "#3. 上傳出版(upload publish) upload to PYPI: twine upload dist/*"
   ]
  },
  {
   "cell_type": "code",
   "execution_count": 8,
   "metadata": {},
   "outputs": [
    {
     "name": "stdout",
     "output_type": "stream",
     "text": [
      "running install\n",
      "running bdist_egg\n",
      "running egg_info\n",
      "writing myprimelib9b.egg-info\\PKG-INFO\n",
      "writing dependency_links to myprimelib9b.egg-info\\dependency_links.txt\n",
      "writing top-level names to myprimelib9b.egg-info\\top_level.txt\n",
      "reading manifest file 'myprimelib9b.egg-info\\SOURCES.txt'\n",
      "adding license file 'LICENSE'\n",
      "writing manifest file 'myprimelib9b.egg-info\\SOURCES.txt'\n",
      "installing library code to build\\bdist.win-amd64\\egg\n",
      "running install_lib\n",
      "running build_py\n",
      "creating build\\bdist.win-amd64\\egg\n",
      "creating build\\bdist.win-amd64\\egg\\myprimelib9b\n",
      "copying build\\lib\\myprimelib9b\\prime_numbers.py -> build\\bdist.win-amd64\\egg\\myprimelib9b\n",
      "copying build\\lib\\myprimelib9b\\__init__.py -> build\\bdist.win-amd64\\egg\\myprimelib9b\n",
      "byte-compiling build\\bdist.win-amd64\\egg\\myprimelib9b\\prime_numbers.py to prime_numbers.cpython-39.pyc\n",
      "byte-compiling build\\bdist.win-amd64\\egg\\myprimelib9b\\__init__.py to __init__.cpython-39.pyc\n",
      "creating build\\bdist.win-amd64\\egg\\EGG-INFO\n",
      "copying myprimelib9b.egg-info\\PKG-INFO -> build\\bdist.win-amd64\\egg\\EGG-INFO\n",
      "copying myprimelib9b.egg-info\\SOURCES.txt -> build\\bdist.win-amd64\\egg\\EGG-INFO\n",
      "copying myprimelib9b.egg-info\\dependency_links.txt -> build\\bdist.win-amd64\\egg\\EGG-INFO\n",
      "copying myprimelib9b.egg-info\\top_level.txt -> build\\bdist.win-amd64\\egg\\EGG-INFO\n",
      "creating 'dist\\myprimelib9b-0.0.1-py3.9.egg' and adding 'build\\bdist.win-amd64\\egg' to it\n",
      "removing 'build\\bdist.win-amd64\\egg' (and everything under it)\n",
      "Processing myprimelib9b-0.0.1-py3.9.egg\n",
      "Copying myprimelib9b-0.0.1-py3.9.egg to c:\\anaconda3\\lib\\site-packages\n",
      "Adding myprimelib9b 0.0.1 to easy-install.pth file\n",
      "\n",
      "Installed c:\\anaconda3\\lib\\site-packages\\myprimelib9b-0.0.1-py3.9.egg\n",
      "Processing dependencies for myprimelib9b==0.0.1\n",
      "Finished processing dependencies for myprimelib9b==0.0.1\n"
     ]
    },
    {
     "name": "stderr",
     "output_type": "stream",
     "text": [
      "c:\\Anaconda3\\lib\\site-packages\\setuptools\\command\\install.py:34: SetuptoolsDeprecationWarning: setup.py install is deprecated. Use build and pip and other standards-based tools.\n",
      "  warnings.warn(\n",
      "c:\\Anaconda3\\lib\\site-packages\\setuptools\\command\\easy_install.py:144: EasyInstallDeprecationWarning: easy_install command is deprecated. Use build and pip and other standards-based tools.\n",
      "  warnings.warn(\n",
      "zip_safe flag not set; analyzing archive contents...\n"
     ]
    }
   ],
   "source": [
    "#以下是安裝modules到電腦內python library: C:\\Anaconda3\\\n",
    "#'c:\\\\Anaconda3\\\\lib\\\\site-packages\\\\primelib_clement_bonnet-0.0.1-py3.9.egg\\\\primelib\\\\'\n",
    "!Python setup.py install \n",
    "#若再重新跑則要delete: c:\\anaconda3\\lib\\site-packages\\timenet2100-0.0.1-py3.9.egg\n"
   ]
  },
  {
   "cell_type": "code",
   "execution_count": 13,
   "metadata": {},
   "outputs": [
    {
     "data": {
      "text/plain": [
       "'c:\\\\Users\\\\Administrator\\\\Documents\\\\GitHub\\\\myprimelib9b\\\\myprimelib9b\\\\__init__.py'"
      ]
     },
     "execution_count": 13,
     "metadata": {},
     "output_type": "execute_result"
    }
   ],
   "source": [
    "#安裝Python setup.py install 之後,就可以找到/lib/site-packages/primelib\n",
    "import myprimelib9b as mp\n",
    "mp.is_prime(13)\n",
    "myprimelib9b.is_prime(13)\n",
    "myprimelib9b.__file__"
   ]
  },
  {
   "cell_type": "markdown",
   "metadata": {},
   "source": [
    "#在不同source code路徑下run: import myprimelib9b   \n",
    "#執行以下程式:    \n",
    "myprimelib9b.__file__\n",
    "\n",
    "#可以看到python library安裝好的modules (不是source code 內的module)   \n",
    "#.egg檔是zip file可以用winrar打開\n",
    "![picture 3](images/bf01e1c29968c5689eb5c51ee96c1a103a655e8fece89e0b7f5898857607606e.png)  \n",
    "![picture 4](images/d3cff04906efc47a958470397ef8e5bc450a7549eef210ab6fd87bfa007789a4.png)  \n",
    "\n"
   ]
  },
  {
   "cell_type": "markdown",
   "metadata": {},
   "source": [
    "# 上傳package到PYPI(要申請account才可上傳:user pwd)\n",
    "under terminal command and setup.py 目錄   \n"
   ]
  },
  {
   "cell_type": "code",
   "execution_count": null,
   "metadata": {},
   "outputs": [],
   "source": [
    "# upload前要remove不必要的/dist/desktip.ini檔\n",
    "# 要在Cmd:/myprimelib9b下執行(內含/dist/*)\n",
    "# Method1: upload to pypi: timenet2300 \n",
    "python -m twine upload -u timenet2300 -p ss@098765 dist/*\n",
    "#twine upload dist/*   \n"
   ]
  },
  {
   "cell_type": "code",
   "execution_count": null,
   "metadata": {},
   "outputs": [],
   "source": [
    "\n",
    "# Method2: upload to testpypi: timenet2100 \n",
    "python -m twine upload -u timenet2300 -p ss@098765 dist/*"
   ]
  },
  {
   "cell_type": "code",
   "execution_count": 14,
   "metadata": {},
   "outputs": [
    {
     "name": "stdout",
     "output_type": "stream",
     "text": [
      "Requirement already satisfied: myprimelib9b in c:\\users\\administrator\\documents\\github\\myprimelib9b (0.0.1)\n"
     ]
    },
    {
     "name": "stderr",
     "output_type": "stream",
     "text": [
      "WARNING: Ignoring invalid distribution -atplotlib (c:\\anaconda3\\lib\\site-packages)\n",
      "WARNING: Ignoring invalid distribution -atplotlib (c:\\anaconda3\\lib\\site-packages)\n",
      "WARNING: Ignoring invalid distribution -atplotlib (c:\\anaconda3\\lib\\site-packages)\n",
      "WARNING: Ignoring invalid distribution -atplotlib (c:\\anaconda3\\lib\\site-packages)\n",
      "WARNING: Ignoring invalid distribution -atplotlib (c:\\anaconda3\\lib\\site-packages)\n",
      "WARNING: Ignoring invalid distribution -atplotlib (c:\\anaconda3\\lib\\site-packages)\n"
     ]
    },
    {
     "data": {
      "text/plain": [
       "True"
      ]
     },
     "execution_count": 14,
     "metadata": {},
     "output_type": "execute_result"
    }
   ],
   "source": [
    "#!pip install primelib\n",
    "!pip install myprimelib9b\n",
    "import myprimelib9b\n",
    "myprimelib9b.is_prime(13)\n",
    "\n",
    "\n"
   ]
  },
  {
   "cell_type": "code",
   "execution_count": 28,
   "metadata": {},
   "outputs": [
    {
     "name": "stdout",
     "output_type": "stream",
     "text": [
      "Requirement already satisfied: myprimelib9b in c:\\users\\administrator\\documents\\github\\myprimelib9b (0.0.1)\n"
     ]
    },
    {
     "name": "stderr",
     "output_type": "stream",
     "text": [
      "WARNING: Ignoring invalid distribution -atplotlib (c:\\anaconda3\\lib\\site-packages)\n",
      "WARNING: Ignoring invalid distribution -atplotlib (c:\\anaconda3\\lib\\site-packages)\n",
      "WARNING: Ignoring invalid distribution -atplotlib (c:\\anaconda3\\lib\\site-packages)\n",
      "WARNING: Ignoring invalid distribution -atplotlib (c:\\anaconda3\\lib\\site-packages)\n",
      "WARNING: Ignoring invalid distribution -atplotlib (c:\\anaconda3\\lib\\site-packages)\n",
      "WARNING: Ignoring invalid distribution -atplotlib (c:\\anaconda3\\lib\\site-packages)\n"
     ]
    }
   ],
   "source": [
    "#install myprime9b from textpypi\n",
    "#!pip install --index-url https://test.pypi.org/simple/  myprimelib9b\n",
    "#install myprime9b from pypi\n",
    "!pip install myprimelib9b"
   ]
  },
  {
   "cell_type": "code",
   "execution_count": 30,
   "metadata": {},
   "outputs": [
    {
     "data": {
      "text/plain": [
       "'c:\\\\Users\\\\Administrator\\\\Documents\\\\GitHub\\\\myprimelib9b\\\\myprimelib9b\\\\__init__.py'"
      ]
     },
     "execution_count": 30,
     "metadata": {},
     "output_type": "execute_result"
    }
   ],
   "source": [
    "import myprimelib9b\n",
    "myprimelib9b.__file__"
   ]
  },
  {
   "cell_type": "markdown",
   "metadata": {},
   "source": [
    "# Install package from github\n",
    "![picture 2](../images/63229479de903c48722c9681795c9937d38af08c30d605138d49a4813bf7e85b.png)  \n",
    "\n",
    "* method1: pip install git+https://github.com\n",
    "* method2:Another installation option that doesn't require Git installed: pip install --upgrade https://github.com/jkbr/httpie/tarball/master \n",
    "* method3: To install Python package from github, you need to clone that repository.\n",
    "git clone https://github.com/jkbr/httpie.git\n",
    "Then just run the setup.py file from that directory,\n",
    "sudo python setup.py install\n",
    "\n",
    "\n"
   ]
  },
  {
   "cell_type": "markdown",
   "metadata": {},
   "source": [
    "### upload ur computer package folder to github\n",
    "![picture 2](../images/199d9b0f86c3d76b034b8717fe52a2ea51cef2506efa73b106aa612e96e63c05.png)  \n"
   ]
  },
  {
   "cell_type": "code",
   "execution_count": 2,
   "metadata": {},
   "outputs": [
    {
     "name": "stdout",
     "output_type": "stream",
     "text": [
      "Collecting git+https://github.com/myNKUST/myprimelib9b.git\n",
      "  Cloning https://github.com/myNKUST/myprimelib9b.git to c:\\users\\administrator\\appdata\\local\\temp\\pip-req-build-la7k6zpp\n",
      "  Resolved https://github.com/myNKUST/myprimelib9b.git to commit 8e7eb0dada521674aa477af229607ac09faf4090\n"
     ]
    },
    {
     "name": "stderr",
     "output_type": "stream",
     "text": [
      "WARNING: Ignoring invalid distribution -atplotlib (c:\\anaconda3\\lib\\site-packages)\n",
      "WARNING: Ignoring invalid distribution -atplotlib (c:\\anaconda3\\lib\\site-packages)\n",
      "  Running command git clone -q https://github.com/myNKUST/myprimelib9b.git 'C:\\Users\\Administrator\\AppData\\Local\\Temp\\pip-req-build-la7k6zpp'\n",
      "WARNING: Ignoring invalid distribution -atplotlib (c:\\anaconda3\\lib\\site-packages)\n",
      "WARNING: Ignoring invalid distribution -atplotlib (c:\\anaconda3\\lib\\site-packages)\n",
      "WARNING: Ignoring invalid distribution -atplotlib (c:\\anaconda3\\lib\\site-packages)\n",
      "WARNING: Ignoring invalid distribution -atplotlib (c:\\anaconda3\\lib\\site-packages)\n"
     ]
    }
   ],
   "source": [
    "### 例子1:\n",
    "!pip install git+https://github.com/myNKUST/myprimelib9b.git\n",
    "#### 例子2:\n",
    "#pip install git+https://github.com/timenet2300/Your-First-Python-Package-on-PyPI.git\n"
   ]
  },
  {
   "cell_type": "markdown",
   "metadata": {},
   "source": [
    "\n",
    "![picture 7](../images/48c7f8e77a6be6022b2039947a8d3f0a9df0a3ed164407d76669ed030b9f8a3a.png)  \n",
    "https://docs.github.com/en/actions/publishing-packages/about-packaging-with-github-actions\n"
   ]
  },
  {
   "cell_type": "markdown",
   "metadata": {},
   "source": [
    "# Publish package using github action\n",
    "![picture 6](../images/24e6d20bc39aa34bd8b66a27076de749c34a3878f2e5b13fe0d8ee649dd231bc.png)  \n"
   ]
  },
  {
   "cell_type": "markdown",
   "metadata": {},
   "source": [
    "\n",
    "https://github.com/timenet2300/myClass.git\n",
    "![picture 1](../images/5f3dc6f07f5e29bb2c3795a183d33a3f3d8bb827dc19fd7d416ba970b73b2c28.png)  \n"
   ]
  },
  {
   "cell_type": "markdown",
   "metadata": {},
   "source": []
  }
 ],
 "metadata": {
  "kernelspec": {
   "display_name": "Python 3.9.7 ('base')",
   "language": "python",
   "name": "python3"
  },
  "language_info": {
   "codemirror_mode": {
    "name": "ipython",
    "version": 3
   },
   "file_extension": ".py",
   "mimetype": "text/x-python",
   "name": "python",
   "nbconvert_exporter": "python",
   "pygments_lexer": "ipython3",
   "version": "3.9.7"
  },
  "orig_nbformat": 4,
  "vscode": {
   "interpreter": {
    "hash": "e4cce46d6be9934fbd27f9ca0432556941ea5bdf741d4f4d64c6cd7f8dfa8fba"
   }
  }
 },
 "nbformat": 4,
 "nbformat_minor": 2
}
